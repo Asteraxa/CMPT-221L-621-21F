{
 "cells": [
  {
   "cell_type": "markdown",
   "id": "fe8044ff-5fc2-4abd-8dfa-9d7426d425f2",
   "metadata": {},
   "source": [
    "Fisher - Lab 4"
   ]
  },
  {
   "cell_type": "markdown",
   "id": "0cf8e5ab-493e-48d8-b62a-bd7a769d171e",
   "metadata": {},
   "source": [
    "1. Our project idea is called Digital Passport. This application allows people to post tourist pictures and the location in which the pictures were taken. Thus, other users can look up a desired travel location and see and comment on other people's pictures from that place. It is a great way for users to do vacation research and see the places they can visit and things they can do in a travel destination."
   ]
  },
  {
   "cell_type": "markdown",
   "id": "81bec3af-a713-4f21-9b4b-a9f0a271cd81",
   "metadata": {},
   "source": [
    "2. Our team/company name is Phoenix Foundation."
   ]
  },
  {
   "cell_type": "markdown",
   "id": "b513a705-0c47-4565-a81a-31e1f477e425",
   "metadata": {},
   "source": [
    "3. We will be doing stand ups on Mondays, Wednesdays, and Fridays"
   ]
  },
  {
   "cell_type": "markdown",
   "id": "c1b675d7-dd2c-40f8-ace0-fbef2cb5f454",
   "metadata": {},
   "source": [
    "4. Our iteration length will be 2 weeks."
   ]
  },
  {
   "cell_type": "markdown",
   "id": "1278630a-093c-4de4-8224-025de3ecce0a",
   "metadata": {},
   "source": [
    "5. Our preferred form of general communication is Discord. Similarly, Stand Ups will be performed via text in the Slack or Discord chats using the ABC Format, while Iteration Planning and Retrospectives will be performed via Discord's voice chat function. "
   ]
  },
  {
   "cell_type": "markdown",
   "id": "77e69441-2471-4be7-9977-8b130a08f673",
   "metadata": {},
   "source": [
    "6. Version 1.0 will be focused around a map that the user will be able to zoom in and out of and pan around to find a location they are looking for. They can click in a general metropolitan area, where they will be directed to a page for them to scroll through the posts from that location. Users will be able to make an account, which will let them comment on others' posts and save posts to a personal collection for vacation planning purposes.\n"
   ]
  },
  {
   "cell_type": "markdown",
   "id": "9fc06008-d0a8-432d-81d3-94b51eca4c59",
   "metadata": {},
   "source": [
    "7. Our backlog will be managed using Trello:\n",
    "\n",
    "https://trello.com/b/VubnuuNs/sd2-final-project-development-flow"
   ]
  },
  {
   "cell_type": "markdown",
   "id": "98058af4-f100-4b48-96e0-dd76f3b72f90",
   "metadata": {},
   "source": [
    "8. Our starting roles are: \n",
    "\n",
    "Nicholas Fisher - Iteration Manager\n",
    "Joshua Seligman - Product Owner\n",
    "Jason Dos Santos - Developer\n",
    "Nick Fiore - Developer"
   ]
  }
 ],
 "metadata": {
  "kernelspec": {
   "display_name": "Javascript (Node.js)",
   "language": "javascript",
   "name": "javascript"
  },
  "language_info": {
   "file_extension": ".js",
   "mimetype": "application/javascript",
   "name": "javascript",
   "version": "14.17.6"
  }
 },
 "nbformat": 4,
 "nbformat_minor": 5
}
