{
 "cells": [
  {
   "cell_type": "markdown",
   "id": "d914c2a1-d357-4281-b79f-9716ae696a59",
   "metadata": {},
   "source": [
    "Fisher - Lab 3"
   ]
  },
  {
   "cell_type": "markdown",
   "id": "5228d62d-fa56-42b5-912c-c039ef61162c",
   "metadata": {
    "tags": []
   },
   "source": [
    "1: The difference between null and undefined is that, while null is an object specifically used to represent an empty or non-existant value, undefined is a variable that has been declared, but has yet to be defined.  "
   ]
  },
  {
   "cell_type": "markdown",
   "id": "51b0e480-50b5-49d7-a8f6-ac7956d1a44f",
   "metadata": {},
   "source": [
    "2: The three variable types in Javascript are Boolean, String, and Numbers."
   ]
  },
  {
   "cell_type": "markdown",
   "id": "a758a798-741c-4dd3-8db0-96f00aaa0ec6",
   "metadata": {},
   "source": [
    "3:"
   ]
  },
  {
   "cell_type": "code",
   "execution_count": 1,
   "id": "8cd4f54a-57c2-48ea-83e0-03d5af383451",
   "metadata": {},
   "outputs": [
    {
     "name": "stdout",
     "output_type": "stream",
     "text": [
      "I cast Opt\n"
     ]
    }
   ],
   "source": [
    "var landperturn = false;\n",
    "var landcount = 2;\n",
    "var CMC = 3;\n",
    "\n",
    "if (landperturn == false) {\n",
    "    landcount +=1;\n",
    "}\n",
    "if (CMC <= landcount) {\n",
    "    console.log(\"I cast Opt\");\n",
    "} else {\n",
    "    console.log(\"I pass the turn\");\n",
    "}"
   ]
  },
  {
   "cell_type": "code",
   "execution_count": 2,
   "id": "4ed03827-9513-4a66-9e67-443dc4dc927c",
   "metadata": {},
   "outputs": [
    {
     "name": "stdout",
     "output_type": "stream",
     "text": [
      "No fun allowed.\n"
     ]
    }
   ],
   "source": [
    "var manacolor = \"blue\"\n",
    "switch (manacolor) {\n",
    "    case \"red\":\n",
    "        console.log(\"The best removal is player removal.\");\n",
    "        break;\n",
    "    case \"green\":\n",
    "        console.log(\"I really like big creatures.\");\n",
    "        break;\n",
    "    case \"white\":\n",
    "        console.log(\"I would like to win at least one time.\");\n",
    "        break;\n",
    "    case \"black\":\n",
    "        console.log(\"Mwahahahahaha!\");\n",
    "        break;\n",
    "    case \"blue\":\n",
    "        console.log(\"No fun allowed.\");\n",
    "        break;\n",
    "}"
   ]
  },
  {
   "cell_type": "markdown",
   "id": "1d23b12b-a7a7-4143-8045-ed783e4de050",
   "metadata": {},
   "source": [
    "4:"
   ]
  },
  {
   "cell_type": "code",
   "execution_count": 3,
   "id": "8bc67c4a-b1e6-4312-bd35-7e6b91a1ad8b",
   "metadata": {},
   "outputs": [
    {
     "name": "stdout",
     "output_type": "stream",
     "text": [
      "3\n",
      "0\n",
      "4\n",
      "2\n",
      "1\n"
     ]
    }
   ],
   "source": [
    "var manapool = 10;\n",
    "var cards = [3, 0, 4, 2, 1, 5, 1];\n",
    "for (card of cards) {\n",
    "    if (card <= manapool) {\n",
    "        console.log(card);\n",
    "        manapool = manapool - card; \n",
    "    }\n",
    "}"
   ]
  },
  {
   "cell_type": "code",
   "execution_count": 4,
   "id": "168f5e35-8df1-4422-bf00-6abdc505e397",
   "metadata": {},
   "outputs": [
    {
     "name": "stdout",
     "output_type": "stream",
     "text": [
      "I cast Skewer the Critics\n",
      "I cast Swamp\n",
      "I cast Mountain\n",
      "I cast Zariel, Archduke of Avernus\n",
      "I cast Mayhem Devil\n",
      "I cast Play With Fire\n"
     ]
    }
   ],
   "source": [
    "var hand = [\"Play With Fire\", \"Mayhem Devil\", \"Zariel, Archduke of Avernus\", \"Mountain\", \"Swamp\", \"Skewer the Critics\"];\n",
    "while (hand.length != 0) {\n",
    "    console.log(\"I cast \" + hand.pop());\n",
    "}"
   ]
  },
  {
   "cell_type": "markdown",
   "id": "b8b7d13a-7baf-4702-945d-3c826d0ea805",
   "metadata": {},
   "source": [
    "5:"
   ]
  },
  {
   "cell_type": "code",
   "execution_count": 5,
   "id": "d8fbcb94-9265-40dc-a0cd-41758394b753",
   "metadata": {},
   "outputs": [
    {
     "name": "stdout",
     "output_type": "stream",
     "text": [
      "{\n",
      "  name: \"Calix, Destiny's Hand\",\n",
      "  type: 'Planeswalker',\n",
      "  color: 'Selesnya',\n",
      "  manacost: 4,\n",
      "  loyalty: 4\n",
      "}\n"
     ]
    }
   ],
   "source": [
    "var Calix = {\n",
    "    name: \"Calix, Destiny's Hand\",\n",
    "    type: \"Planeswalker\",\n",
    "    color: \"Selesnya\",\n",
    "    manacost: 4,\n",
    "    loyalty: 4,\n",
    "}\n",
    "\n",
    "console.log(Calix);"
   ]
  },
  {
   "cell_type": "markdown",
   "id": "9e4f2716-791b-47d8-a19a-a26b88a36b08",
   "metadata": {},
   "source": [
    "6:"
   ]
  },
  {
   "cell_type": "code",
   "execution_count": 4,
   "id": "36bc92dc-5e8e-4356-91ff-1874586cd168",
   "metadata": {},
   "outputs": [],
   "source": [
    "function BinaryConvert(input) {\n",
    "    let quotient = 0;\n",
    "    let remainder = 0;\n",
    "    let binary = '';\n",
    "    while (input > 0) {\n",
    "        quotient = Math.floor(input/2);\n",
    "        remainder = input%2;\n",
    "        input = quotient;\n",
    "        binary = remainder+binary;\n",
    "    }\n",
    "    console.log(binary); \n",
    "}"
   ]
  },
  {
   "cell_type": "code",
   "execution_count": 5,
   "id": "aec75b99-c52c-482d-b02e-f1830e493f8b",
   "metadata": {},
   "outputs": [
    {
     "name": "stdout",
     "output_type": "stream",
     "text": [
      "110\n"
     ]
    }
   ],
   "source": [
    "BinaryConvert(6); "
   ]
  }
 ],
 "metadata": {
  "kernelspec": {
   "display_name": "Javascript (Node.js)",
   "language": "javascript",
   "name": "javascript"
  },
  "language_info": {
   "file_extension": ".js",
   "mimetype": "application/javascript",
   "name": "javascript",
   "version": "14.17.6"
  }
 },
 "nbformat": 4,
 "nbformat_minor": 5
}
